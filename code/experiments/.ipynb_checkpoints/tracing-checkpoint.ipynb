{
 "cells": [
  {
   "cell_type": "code",
   "execution_count": 1,
   "metadata": {},
   "outputs": [],
   "source": [
    "%load_ext autoreload\n",
    "%autoreload 2\n",
    "%matplotlib widget"
   ]
  },
  {
   "cell_type": "code",
   "execution_count": 2,
   "metadata": {},
   "outputs": [
    {
     "data": {
      "text/plain": [
       "3"
      ]
     },
     "execution_count": 2,
     "metadata": {},
     "output_type": "execute_result"
    }
   ],
   "source": [
    "import os\n",
    "import sys\n",
    "import inspect\n",
    "\n",
    "currentdir = os.path.dirname(os.path.abspath(inspect.getfile(inspect.currentframe())))\n",
    "parentdir = os.path.dirname(currentdir)\n",
    "sys.path.insert(0, parentdir) \n",
    "3"
   ]
  },
  {
   "cell_type": "markdown",
   "metadata": {},
   "source": [
    "# Visualizing RL / IRL with dimensionality reduction\n",
    "Use PCA, primarily."
   ]
  },
  {
   "cell_type": "markdown",
   "metadata": {},
   "source": [
    "First, we look at the forward process. How far does value iteration get? Does policy improvememnt change trajectory?"
   ]
  },
  {
   "cell_type": "code",
   "execution_count": 183,
   "metadata": {},
   "outputs": [
    {
     "data": {
      "application/vnd.jupyter.widget-view+json": {
       "model_id": "0c7be76c08a64ee6b88f7a13e08062c1",
       "version_major": 2,
       "version_minor": 0
      },
      "text/plain": [
       "Canvas(toolbar=Toolbar(toolitems=[('Home', 'Reset original view', 'home', 'home'), ('Back', 'Back to previous …"
      ]
     },
     "metadata": {},
     "output_type": "display_data"
    }
   ],
   "source": [
    "import numpy as np\n",
    "import primitives as prim\n",
    "from environs import GridWorld\n",
    "from utils import broadcompress\n",
    "from tracing import TraceStore\n",
    "\n",
    "GW = GridWorld.make(12,8, noise=0.1)\n",
    "R1pt = np.zeros(GW.Sshape)\n",
    "R1pt[21] = 2\n",
    "\n",
    "tracer = TraceStore('*')\n",
    "π = prim.fwd(GW, R1pt, 0.95, alternations=3,\n",
    "             policy_improve_iters=10, val_iters=300, temp=0.001, trace=tracer)\n",
    "GW.draw(states=R1pt, policy=π )"
   ]
  },
  {
   "cell_type": "code",
   "execution_count": 184,
   "metadata": {},
   "outputs": [
    {
     "name": "stdout",
     "output_type": "stream",
     "text": [
      "dict_keys(['Vv', 'V', 'π', 'V0', 'π0', 'Ve0', 'Ve1', 'Ve2', 'Ve3', 'Ve4', 'Ve5', 'Ve6', 'Ve7', 'Ve8', 'Ve9'])\n",
      "Explained_variance: [0.90399805 0.0468123 ] \t(total: 0.950810)\n"
     ]
    },
    {
     "data": {
      "application/vnd.jupyter.widget-view+json": {
       "model_id": "b32ba815041c47a68a3622da44c5aaaf",
       "version_major": 2,
       "version_minor": 0
      },
      "text/plain": [
       "Canvas(toolbar=Toolbar(toolitems=[('Home', 'Reset original view', 'home', 'home'), ('Back', 'Back to previous …"
      ]
     },
     "metadata": {},
     "output_type": "display_data"
    }
   ],
   "source": [
    "from viz import pca_view\n",
    "\n",
    "print(tracer.trace.keys())\n",
    "pca_view(arrows=True,  \n",
    "#          Vv=tracer.trace['Vv'][0:], \n",
    "#         Ve = tracer.trace['Ve'][0:], \n",
    "#          V=tracer.trace['V'][0:],\n",
    "#          V0=tracer.trace['V0'][0:]\n",
    "         *[tracer.trace['Ve%d'%i] for i in range(10)]\n",
    "        )"
   ]
  },
  {
   "cell_type": "code",
   "execution_count": 179,
   "metadata": {},
   "outputs": [],
   "source": [
    "from matplotlib import pyplot as plt\n",
    "plt.close('all')"
   ]
  },
  {
   "cell_type": "markdown",
   "metadata": {},
   "source": [
    "Clearly, there is a mismatch between "
   ]
  }
 ],
 "metadata": {
  "kernelspec": {
   "display_name": "Python 3",
   "language": "python",
   "name": "python3"
  },
  "language_info": {
   "codemirror_mode": {
    "name": "ipython",
    "version": 3
   },
   "file_extension": ".py",
   "mimetype": "text/x-python",
   "name": "python",
   "nbconvert_exporter": "python",
   "pygments_lexer": "ipython3",
   "version": "3.8.10"
  }
 },
 "nbformat": 4,
 "nbformat_minor": 4
}
